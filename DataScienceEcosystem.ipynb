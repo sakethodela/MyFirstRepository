{
 "cells": [
  {
   "cell_type": "markdown",
   "id": "06c0f5f4-02d6-4723-b0d0-6d049dfbff06",
   "metadata": {},
   "source": [
    "# H1: Data Science Tools and Ecosystem"
   ]
  },
  {
   "cell_type": "markdown",
   "id": "9626558e-cdab-40b5-9840-02184b8d04e2",
   "metadata": {},
   "source": [
    "**Objectives** :\n",
    "\n",
    "List  popular languages in data science\n",
    "\n",
    "- Python\n",
    "- java\n",
    "- SQL"
   ]
  },
  {
   "cell_type": "markdown",
   "id": "e58cdfcb-8fee-42bf-ac66-e0fcf3cf1e6b",
   "metadata": {},
   "source": [
    "# In this notebook Data Science Tools and eco system are summerized\n"
   ]
  },
  {
   "cell_type": "markdown",
   "id": "982e9405-b936-4df1-93ed-3d614a66d1a8",
   "metadata": {},
   "source": [
    "Some of the popular languages that Data Scientists use are:\n",
    "\n",
    "1. Python\n",
    "2. Java\n",
    "3. SQL\n",
    "4. C++"
   ]
  },
  {
   "cell_type": "markdown",
   "id": "eecdb53d-c6b3-4805-8ffa-f48b004d7bde",
   "metadata": {},
   "source": [
    "Some of the commonly used libraries used by Data Scientists include:\n",
    "\n",
    "1. Pandas\n",
    "2. Numpy\n",
    "3. Matplotlib\n",
    "4. keras"
   ]
  },
  {
   "cell_type": "markdown",
   "id": "8147759e-63d5-48eb-bbe9-aa2671dc0d9c",
   "metadata": {},
   "source": [
    "| Data Science Tools |\n",
    " --------------------\n",
    "|   Python           |\n",
    "|   R                |\n",
    "|   SQL              |\n",
    " "
   ]
  },
  {
   "cell_type": "markdown",
   "id": "d0793f28-e6cc-48c3-8efe-2ca89627b67d",
   "metadata": {},
   "source": [
    "### H3: Below are a few examples of evaluating arithmetic expressions in Python\n",
    "\n"
   ]
  },
  {
   "cell_type": "code",
   "execution_count": 25,
   "id": "f13d3481-585c-43ba-a4cf-ada3b0b7bc0f",
   "metadata": {},
   "outputs": [
    {
     "data": {
      "text/plain": [
       "35"
      ]
     },
     "execution_count": 25,
     "metadata": {},
     "output_type": "execute_result"
    }
   ],
   "source": [
    "# This a simple arithmetic expression to mutiply then add integers\n",
    "\n",
    "(3+4)*5"
   ]
  },
  {
   "cell_type": "code",
   "execution_count": 27,
   "id": "1a01c3d3-8a1d-4bad-a975-e649ebdd9bcb",
   "metadata": {},
   "outputs": [
    {
     "data": {
      "text/plain": [
       "3.3333333333333335"
      ]
     },
     "execution_count": 27,
     "metadata": {},
     "output_type": "execute_result"
    }
   ],
   "source": [
    "# This will convert 200 minutes to hours by diving by 60\n",
    "\n",
    "200/60"
   ]
  },
  {
   "cell_type": "markdown",
   "id": "a959d90e-3b4b-402c-99e2-043c2d17de22",
   "metadata": {},
   "source": [
    "## H2: Author\n",
    "Saketh Odela\n"
   ]
  },
  {
   "cell_type": "code",
   "execution_count": null,
   "id": "c9a0ed28-1d30-46fa-baf1-bcf5e8038ecd",
   "metadata": {},
   "outputs": [],
   "source": []
  }
 ],
 "metadata": {
  "kernelspec": {
   "display_name": "Python 3 (ipykernel)",
   "language": "python",
   "name": "python3"
  },
  "language_info": {
   "codemirror_mode": {
    "name": "ipython",
    "version": 3
   },
   "file_extension": ".py",
   "mimetype": "text/x-python",
   "name": "python",
   "nbconvert_exporter": "python",
   "pygments_lexer": "ipython3",
   "version": "3.11.8"
  }
 },
 "nbformat": 4,
 "nbformat_minor": 5
}
